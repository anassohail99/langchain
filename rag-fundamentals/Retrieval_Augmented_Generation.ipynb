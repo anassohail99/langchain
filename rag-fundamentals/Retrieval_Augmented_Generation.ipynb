{
 "cells": [
  {
   "cell_type": "markdown",
   "id": "6f374de4-a98e-4f23-8984-fe10022db0da",
   "metadata": {},
   "source": [
    "# Retrieval-Augmented Generation (RAG) Implementation Guide\n",
    "\n",
    "This notebook demonstrates a complete RAG pipeline using LangChain and Google's Gemini model. Below are the key components explained:\n",
    "\n",
    "**Key Concepts**:\n",
    "\n",
    "-   `langchain`: Framework for building LLM applications\n",
    "\n",
    "-   `chromadb`: Vector database for storing embeddings\n",
    "\n",
    "-   `langchain-google-vertexai`: Google Cloud integration for Gemini models\n",
    "\n",
    "-   `dotenv`: Environment variable management\n",
    "\n",
    "🧠 What is RAG?\n",
    "---------------\n",
    "\n",
    "**Retrieval-Augmented Generation (RAG)** is a hybrid AI framework that combines:\n",
    "\n",
    "1.  **Retrieval**: Fetching relevant information from external sources.\n",
    "\n",
    "2.  **Generation**: Using a language model (LLM) to synthesize answers based on the retrieved data.\n",
    "\n",
    "Unlike traditional LLMs that rely solely on pre-trained knowledge, RAG grounds responses in **real-time or domain-specific data**, making it ideal for dynamic or specialized applications.\n",
    "\n",
    "🔄 How RAG Works\n",
    "----------------\n",
    "\n",
    "### 1\\. **Retrieval Phase**\n",
    "\n",
    "-   **Data Source**: A database/dataset (e.g., documents, websites, PDFs).\n",
    "\n",
    "-   **Embeddings**: Text is converted into numerical vectors (e.g., using Google's `embedding-001`).\n",
    "\n",
    "-   **Vector Database**: Stores embeddings for fast similarity searches (e.g., ChromaDB).\n",
    "\n",
    "-   **Query Matching**: When a user asks a question, the system retrieve the most semantically similar text chunks.\n",
    "\n",
    "### 2\\. **Augmentation Phase**\n",
    "\n",
    "-   The retrieved context is injected into a **prompt template**.\n",
    "\n",
    "-   Example prompt:\n",
    "\n",
    "    ```Answer using this context: [retrieved text]. Question: [user query]```\n",
    "\n",
    "### 3\\. **Generation Phase**\n",
    "\n",
    "-   An LLM (e.g., Gemini, GPT) generates a response using both:\n",
    "\n",
    "    -   The retrieved context\n",
    "\n",
    "    -   Its pre-trained knowledge\n",
    " \n",
    "🛠️ Key Components (In this Code)\n",
    "-----------------------------------\n",
    "\n",
    "| Component | Your Implementation | Purpose |\n",
    "| --- | --- | --- |\n",
    "| **Document Loader** | `WebBaseLoader` | Fetches web content |\n",
    "| **Text Splitter** | `RecursiveCharacterTextSplitter` | Splits text into chunks with overlap |\n",
    "| **Embedding Model** | `GoogleGenerativeAIEmbeddings` | Converts text to vectors |\n",
    "| **Vector Store** | `Chroma` | Stores/search vectors efficiently |\n",
    "| **Retriever** | `vectorstore.as_retriever()` | Finds relevant chunks for a query |\n",
    "| **LLM** | Gemini-2.0-Flash | Generates final answers |\n",
    "\n",
    "\n",
    "🌟 Why Use RAG?\n",
    "---------------\n",
    "\n",
    "1.  **Reduces Hallucinations**\\\n",
    "    Grounds responses in retrieved facts rather than relying purely on memorized knowledge.\n",
    "\n",
    "2.  **Handles Dynamic Data**\\\n",
    "    Perfect for applications needing up-to-date info (e.g., finance, news).\n",
    "\n",
    "3.  **Cost-Effective**\\\n",
    "    No need to retrain models---just update the database.\n",
    "\n",
    "4.  **Domain Adaptation**\\\n",
    "    Easily customize for specialized fields (e.g., A51 Finance use case).\n",
    "\n",
    "\n",
    "**RAG Steps**:\n",
    "\n",
    "1.  Retrieved chunks from ChromaDB about A51 Finance.\n",
    "\n",
    "2.  Injected them into the prompt:\\\n",
    "    *\"Use this context: [A51 Yield Supercharger docs]... Answer: What is A51 Finance?\"*\n",
    "\n",
    "3.  Gemini synthesized this response:\\\n",
    "    *\"A51 Finance... enhances yield farming strategies using ALM 2.0...\"*"
   ]
  },
  {
   "cell_type": "markdown",
   "id": "14618da1-3197-4b5b-8dd1-dc22f9e2f06c",
   "metadata": {},
   "source": []
  },
  {
   "cell_type": "code",
   "execution_count": null,
   "id": "3fc11a87-89ef-4751-9285-2e841d8e5e8f",
   "metadata": {
    "scrolled": true
   },
   "outputs": [],
   "source": [
    "!pip install langchain_community langchainhub chromadb langchain langchain-openai"
   ]
  },
  {
   "cell_type": "code",
   "execution_count": 46,
   "id": "d7cfe64b-68a8-43a3-b6a4-75e28f0a2526",
   "metadata": {},
   "outputs": [
    {
     "name": "stdout",
     "output_type": "stream",
     "text": [
      "\u001b[31mERROR: pip's dependency resolver does not currently take into account all the packages that are installed. This behaviour is the source of the following dependency conflicts.\n",
      "opentelemetry-proto 1.32.1 requires protobuf<6.0,>=5.0, but you have protobuf 6.31.0rc2 which is incompatible.\u001b[0m\u001b[31m\n",
      "\u001b[0mNote: you may need to restart the kernel to use updated packages.\n"
     ]
    }
   ],
   "source": [
    "pip install -qU langchain-google-vertexai"
   ]
  },
  {
   "cell_type": "code",
   "execution_count": 12,
   "id": "d3f30327-e7ca-4160-8a7e-d7d9decf13b3",
   "metadata": {},
   "outputs": [
    {
     "name": "stdout",
     "output_type": "stream",
     "text": [
      "Requirement already satisfied: dotenv in /opt/anaconda3/envs/langchain/lib/python3.12/site-packages (0.9.9)\n",
      "Requirement already satisfied: python-dotenv in /opt/anaconda3/envs/langchain/lib/python3.12/site-packages (from dotenv) (1.1.0)\n"
     ]
    }
   ],
   "source": [
    "!pip install dotenv"
   ]
  },
  {
   "cell_type": "markdown",
   "id": "de423401-0d3e-449d-9e51-4ad4c1c32832",
   "metadata": {},
   "source": [
    "**Explanation**:\n",
    "\n",
    "-   Securely loads Google API key for Gemini model access\n",
    "\n",
    "-   Uses `getpass` to prevent key exposure in notebooks"
   ]
  },
  {
   "cell_type": "code",
   "execution_count": 16,
   "id": "15166079-75d8-47c3-93a4-52dc2370b2d2",
   "metadata": {},
   "outputs": [
    {
     "name": "stdin",
     "output_type": "stream",
     "text": [
      "Enter API key for Google Gemini:  ········\n"
     ]
    }
   ],
   "source": [
    "import getpass\n",
    "import os\n",
    "from dotenv import load_dotenv\n",
    "\n",
    "\n",
    "load_dotenv()\n",
    "\n",
    "if not os.environ.get(\"GOOGLE_API_KEY\"):\n",
    "  os.environ[\"GOOGLE_API_KEY\"] = getpass.getpass(\"Enter API key for Google Gemini: \")"
   ]
  },
  {
   "cell_type": "markdown",
   "id": "2df4c2ae-b344-43c8-b9a3-3fd4d5b1718c",
   "metadata": {},
   "source": [
    "**Key Concepts**:\n",
    "\n",
    "-   **Document Loaders**: Fetch content from various sources (websites, PDFs, databases)\n",
    "\n",
    "-   **WebBaseLoader**: Specialized loader for web content extraction"
   ]
  },
  {
   "cell_type": "markdown",
   "id": "69120f1b-c820-4c2e-9729-aef4689e9f72",
   "metadata": {},
   "source": [
    "Data Ingestion\n",
    "--------------"
   ]
  },
  {
   "cell_type": "code",
   "execution_count": 22,
   "id": "63661c57-afec-42bc-9fc3-f336f38f3c2a",
   "metadata": {},
   "outputs": [],
   "source": [
    "from langchain_community.document_loaders import WebBaseLoader\n",
    "\n",
    "loader = WebBaseLoader(web_paths=[\"https://a51-finance.gitbook.io/a51-finance\",\"https://a51-finance.gitbook.io/a51-finance/protocol-features/rebalancing-mechanisms\"])\n",
    "docs = loader.load()\n"
   ]
  },
  {
   "cell_type": "markdown",
   "id": "962cf6c9-d26c-49c0-9423-a0fe53277ab9",
   "metadata": {},
   "source": [
    "**Why Chunking Matters**:\n",
    "\n",
    "-   Breaks large documents into manageable pieces\n",
    "\n",
    "-   Maintains context with 200-token overlap\n",
    "\n",
    "-   Optimal chunk size balances context retention and processing efficiency\n"
   ]
  },
  {
   "cell_type": "markdown",
   "id": "d956d3db-c372-4591-a467-d090805e76e9",
   "metadata": {},
   "source": [
    " Text Processing\n",
    "-------------------"
   ]
  },
  {
   "cell_type": "code",
   "execution_count": 42,
   "id": "5c125f4a-3ac3-404d-b494-de016634e915",
   "metadata": {},
   "outputs": [
    {
     "name": "stdout",
     "output_type": "stream",
     "text": [
      "page_content='A51 Yield Supercharger | A51 FinanceA51 FinanceSearch...CtrlK⚡A51 Yield Supercharger⭐A51 Liquidity Automation EngineOverviewThe A51 Finance ThesisProtocol Architecture🌎A51 EcosystemLegacy as Unipilot (v2)Protocol FeaturesMarket ModesAdvanced ModesRebalancing MechanismsSingle-Asset DepositZap InBoosted PositionsStrategies MarketplaceA51 Managed VaultsLiquidity AutomationsMarket ModesAdvanced ModesExample StrategiesVolatility-Hedged Yield Maximization StrategyTokenomicsFOO Tokenomics📃Background🗳️Become a Voter🪙What is $oA51?🪜Voting Mechanism💰Earn Revenue in $ETH📈Maximize Your Rewards$A51 TokenRevenue Model & LPsA51 UtilityGovernanceIncentivesToken Distribution & VestingAMMs SupportUniswap v3 and other AMMsUniswap v4V2 DocsPowered by GitBookOn this pageKey Features of the A51 Yield SuperchargerHow it works:A51 Yield SuperchargerNextA51 Liquidity Automation EngineLast updated 10 months agoA51 Yield Supercharger () is a powerful new tool designed to enhance your yield farming strategies by' metadata={'source': 'https://a51-finance.gitbook.io/a51-finance', 'title': 'A51 Yield Supercharger | A51 Finance', 'language': 'en'}\n",
      "page_content='it works:A51 Yield SuperchargerNextA51 Liquidity Automation EngineLast updated 10 months agoA51 Yield Supercharger () is a powerful new tool designed to enhance your yield farming strategies by leveraging the latest advancements in Automated Liquidity Management (ALM). Unlike the Pro version (), which focuses on a comprehensive suite of ALM tools, the Yield Supercharger specifically aims to maximize your yield potential while minimizing risks.Key Features of the A51 Yield SuperchargerCurated Strategies by A51 TeamThe A51 team has meticulously curated a range of strategies using our proprietary ALM 2.0 mechanism. These strategies are designed to perform differently from existing ALM solutions (such as Gamma and Steer) by trailing asset price dynamically to market conditions, that reduces unnecessary rebalancing hence the Impermanent Loss.ALM 2.0 MechanismOur ALM 2.0 mechanism operates in four distinct modes, each tailored to different market conditions of asset pairs. This' metadata={'source': 'https://a51-finance.gitbook.io/a51-finance', 'title': 'A51 Yield Supercharger | A51 Finance', 'language': 'en'}\n",
      "16\n"
     ]
    }
   ],
   "source": [
    "from langchain.text_splitter import RecursiveCharacterTextSplitter\n",
    "\n",
    "text_splitter = RecursiveCharacterTextSplitter(chunk_size = 1000, chunk_overlap = 200)\n",
    "splits = text_splitter.split_documents(docs)\n",
    "print(splits[0])\n",
    "print(splits[1])\n",
    "print(len(splits))"
   ]
  },
  {
   "cell_type": "markdown",
   "id": "3ba469e7-1666-4a90-8527-ff8137b05918",
   "metadata": {},
   "source": [
    "Vector Storage\n",
    "--------------"
   ]
  },
  {
   "cell_type": "code",
   "execution_count": 48,
   "id": "dd7d4501-9555-40e4-8f8f-1ceeb4e80616",
   "metadata": {},
   "outputs": [],
   "source": [
    "from langchain_google_genai import GoogleGenerativeAIEmbeddings\n",
    "from langchain.vectorstores import Chroma"
   ]
  },
  {
   "cell_type": "markdown",
   "id": "b28d7b54-175c-4786-8936-255dabd52cb3",
   "metadata": {},
   "source": [
    "**Embedding Concepts**:\n",
    "\n",
    "-   Converts text to numerical representations (vectors)\n",
    "\n",
    "-   Google's `embedding-001` model generates 768-dimensional vectors\n",
    "\n",
    "-   **ChromaDB**: Lightweight vector database for similarity search"
   ]
  },
  {
   "cell_type": "code",
   "execution_count": 136,
   "id": "eb9aaca3-7bbb-49e1-bbe1-60efd623ef1b",
   "metadata": {},
   "outputs": [
    {
     "name": "stdout",
     "output_type": "stream",
     "text": [
      "112\n"
     ]
    }
   ],
   "source": [
    "vectorstore = Chroma.from_documents(documents=splits, embedding=GoogleGenerativeAIEmbeddings(model=\"models/embedding-001\"))\n",
    "print(vectorstore._collection.count())"
   ]
  },
  {
   "cell_type": "code",
   "execution_count": null,
   "id": "8fba0985-80bd-4d71-a5f4-d59bb0b182fb",
   "metadata": {
    "scrolled": true
   },
   "outputs": [],
   "source": [
    "print(vectorstore._collection.get())"
   ]
  },
  {
   "cell_type": "code",
   "execution_count": null,
   "id": "23a8e22c-f64a-4ae9-bbe9-5bc248af3bd2",
   "metadata": {
    "scrolled": true
   },
   "outputs": [],
   "source": [
    "print(\"\\nCollection 1 - \", vectorstore._collection.get(ids=['cac7e248-68e7-4d55-a4d3-3c51ee0d8c3b'], include=[\"embeddings\", \"documents\"]))\n",
    "print(\"\\nCollection 2 - \", vectorstore._collection.get(ids=['5207382c-e91f-4aa5-a198-99d77004a8d1'], include=[\"embeddings\", \"documents\"]))\n",
    "print(\"\\nCollection 3 - \", vectorstore._collection.get(ids=['9f794f66-1fe0-46ed-afdc-c271e6e70186'], include=[\"embeddings\", \"documents\"]))"
   ]
  },
  {
   "cell_type": "markdown",
   "id": "1922a378-0999-4708-a617-487377e6969e",
   "metadata": {},
   "source": [
    "**Retrieval Process**:\n",
    "\n",
    "-   Searches vector store for most relevant document chunks\n",
    "\n",
    "-   Default returns top 4 similar chunks"
   ]
  },
  {
   "cell_type": "markdown",
   "id": "de6e8c98-5d4a-4932-95ac-4761e641521e",
   "metadata": {},
   "source": [
    "Retrieval Setup\n",
    "---------------"
   ]
  },
  {
   "cell_type": "code",
   "execution_count": 70,
   "id": "4337ee6b-ae38-41f5-af49-d7e20520ff2e",
   "metadata": {},
   "outputs": [],
   "source": [
    "retriever = vectorstore.as_retriever()"
   ]
  },
  {
   "cell_type": "markdown",
   "id": "2ecfef01-60bd-4ced-80a5-557e2753e1e5",
   "metadata": {},
   "source": [
    "# Prompt Engineering\n",
    "----------------------\n",
    "\"You are an assistant for question-answering tasks. Use the following pieces of retrieved context to answer the question. If you don't know the answer, just say that you don't know. Use three sentences maximum and keep the answer concise.\""
   ]
  },
  {
   "cell_type": "code",
   "execution_count": 72,
   "id": "bf7e01e7-2bf7-4497-b2de-b3619093d146",
   "metadata": {},
   "outputs": [
    {
     "name": "stderr",
     "output_type": "stream",
     "text": [
      "/opt/anaconda3/envs/langchain/lib/python3.12/site-packages/langsmith/client.py:272: LangSmithMissingAPIKeyWarning: API key must be provided when using hosted LangSmith API\n",
      "  warnings.warn(\n"
     ]
    }
   ],
   "source": [
    "from langchain import hub\n",
    "prompt = hub.pull(\"rlm/rag-prompt\")"
   ]
  },
  {
   "cell_type": "markdown",
   "id": "6ab9fc40-8930-48b6-8bc7-ac819afaeb11",
   "metadata": {},
   "source": []
  },
  {
   "cell_type": "code",
   "execution_count": 90,
   "id": "131840bd-dc72-492f-952b-e3b6b53920d6",
   "metadata": {},
   "outputs": [
    {
     "data": {
      "text/plain": [
       "ChatGoogleGenerativeAI(model='models/gemini-2.0-flash', google_api_key=SecretStr('**********'), temperature=0.0, client=<google.ai.generativelanguage_v1beta.services.generative_service.client.GenerativeServiceClient object at 0x1221dfe90>, default_metadata=())"
      ]
     },
     "execution_count": 90,
     "metadata": {},
     "output_type": "execute_result"
    }
   ],
   "source": [
    "from langchain.chat_models import init_chat_model\n",
    "model = init_chat_model(\"gemini-2.0-flash\", model_provider=\"google_genai\", temperature=0)\n",
    "model"
   ]
  },
  {
   "cell_type": "code",
   "execution_count": 80,
   "id": "f39c203d-e8fd-4065-a5e5-1d5c304b48bb",
   "metadata": {},
   "outputs": [],
   "source": [
    "from langchain_core.runnables import RunnablePassthrough\n",
    "from langchain_core.output_parsers import StrOutputParser"
   ]
  },
  {
   "cell_type": "code",
   "execution_count": 82,
   "id": "9dccf002-e9ad-43a9-85aa-ebdbe4155b2c",
   "metadata": {},
   "outputs": [],
   "source": [
    "def format_docs(docs):\n",
    "  return \"\\n\".join(doc.page_content for doc in docs)"
   ]
  },
  {
   "cell_type": "markdown",
   "id": "94b287f3-bf68-46a4-aa5d-e5728ed1d7b1",
   "metadata": {},
   "source": [
    "**Pipeline Components**:\n",
    "\n",
    "1.  **Retriever**: Fetches relevant context\n",
    "\n",
    "2.  **Prompt**: Structures the LLM input\n",
    "\n",
    "3.  **Gemini-2.0**: Generates final response\n",
    "\n",
    "4.  **Output Parser**: Converts response to clean text"
   ]
  },
  {
   "cell_type": "code",
   "execution_count": 92,
   "id": "c66a2287-1c7c-44da-96c9-b95d0a7204d1",
   "metadata": {},
   "outputs": [],
   "source": [
    "rag_chain = ({\"context\" : retriever | format_docs, \"question\" : RunnablePassthrough()}\n",
    "             | prompt\n",
    "             | model\n",
    "             | StrOutputParser())"
   ]
  },
  {
   "cell_type": "code",
   "execution_count": 94,
   "id": "77f5ebac-4e15-4fc7-b0e3-f9947573439f",
   "metadata": {},
   "outputs": [
    {
     "data": {
      "text/plain": [
       "'A51 Finance, also known as A51 Yield Supercharger, is a solution designed to enhance earnings and reduce risks for DeFi investors. It offers pre-curated strategies that adapt to different market conditions, automatically managing liquidity provision. Users can accumulate rewards and incentives on top of their base earnings, which can be reinvested to further boost returns.'"
      ]
     },
     "execution_count": 94,
     "metadata": {},
     "output_type": "execute_result"
    }
   ],
   "source": [
    "rag_chain.invoke(\"What is A51 Finance?\")"
   ]
  },
  {
   "cell_type": "code",
   "execution_count": 96,
   "id": "a8f6c9cd-91f2-4177-a040-066491f676ff",
   "metadata": {},
   "outputs": [
    {
     "data": {
      "text/plain": [
       "\"Active rebalancing adjusts a user's liquidity position within the market’s price range by adjusting the distribution of tokens in their liquidity pool. If the price of ETH drops below the minimum price range, the position will be rebalanced by converting $USDC to $ETH to bring the LP position back to the range. This ensures the position is always within the active price range to keep earning fees and yields from trading volume.\""
      ]
     },
     "execution_count": 96,
     "metadata": {},
     "output_type": "execute_result"
    }
   ],
   "source": [
    "rag_chain.invoke(\"How do they rebalance user's positions?\")"
   ]
  },
  {
   "cell_type": "code",
   "execution_count": 100,
   "id": "910ee309-5d96-4a42-b8f0-db4f9547abc3",
   "metadata": {},
   "outputs": [
    {
     "data": {
      "text/plain": [
       "'A51 allows users to set a rebalancing frequency to limit rebalances and prevent bigger losses. Strategy creators can monitor token prices for fluctuations to prevent impermanent loss. Staying updated with the market helps users make informed decisions.'"
      ]
     },
     "execution_count": 100,
     "metadata": {},
     "output_type": "execute_result"
    }
   ],
   "source": [
    "rag_chain.invoke(\"How does A51 finance cater impermenanat loss on positions?\")"
   ]
  },
  {
   "cell_type": "code",
   "execution_count": 124,
   "id": "30dd2ea3-d957-463a-89f1-d15d09f134b2",
   "metadata": {},
   "outputs": [],
   "source": [
    "from langchain_core.runnables import RunnableLambda\n",
    "\n",
    "def print_prompt(prompt_text):\n",
    "  print(\"Prompt - \", prompt_text)\n",
    "  return prompt_text"
   ]
  },
  {
   "cell_type": "code",
   "execution_count": 126,
   "id": "01dd3824-45a4-42b0-a141-6c44a54b546f",
   "metadata": {},
   "outputs": [],
   "source": [
    "\n",
    "rag_chain_with_print = ({\"context\" : retriever | format_docs, \"question\" : RunnablePassthrough()}\n",
    "             | prompt\n",
    "             | RunnableLambda(print_prompt)\n",
    "             | model\n",
    "             | StrOutputParser())\n",
    "\n"
   ]
  },
  {
   "cell_type": "code",
   "execution_count": 128,
   "id": "9db26c9d-e113-4187-8d5e-49328b7eebbd",
   "metadata": {
    "scrolled": true
   },
   "outputs": [
    {
     "name": "stdout",
     "output_type": "stream",
     "text": [
      "Prompt -  messages=[HumanMessage(content=\"You are an assistant for question-answering tasks. Use the following pieces of retrieved context to answer the question. If you don't know the answer, just say that you don't know. Use three sentences maximum and keep the answer concise.\\nQuestion: How does A51 finance cater impermenanat loss on positions? \\nContext: volatility.As a strategy creator, you can speculate if the market bounces back to your main range until your set threshold of resistance or support.Setting a Rebalancing Frequency:Determine how many times you want the protocol to rebalance your liquidity position before it pauses rebalancing.This helps you make a deterministic decision by rethinking your strategy after the set number of rebalances as the market may change in nature.It also helps prevent changes in your liquidity position too many times thus protecting you from bigger losses which usually happen in active rebalancing.By customizing these factors, you are guiding A51 to rebalance when these conditions are met. It requires you to stay updated with the market, especially how your deposited tokens perform to make informed decisions.How Do I Prevent IL Risks?There are certain ways you can prevent the risk of impermanent loss:Closely monitor the token prices for minor or significant price fluctuations and keep your position\\nvolatility.As a strategy creator, you can speculate if the market bounces back to your main range until your set threshold of resistance or support.Setting a Rebalancing Frequency:Determine how many times you want the protocol to rebalance your liquidity position before it pauses rebalancing.This helps you make a deterministic decision by rethinking your strategy after the set number of rebalances as the market may change in nature.It also helps prevent changes in your liquidity position too many times thus protecting you from bigger losses which usually happen in active rebalancing.By customizing these factors, you are guiding A51 to rebalance when these conditions are met. It requires you to stay updated with the market, especially how your deposited tokens perform to make informed decisions.How Do I Prevent IL Risks?There are certain ways you can prevent the risk of impermanent loss:Closely monitor the token prices for minor or significant price fluctuations and keep your position\\nvolatility.As a strategy creator, you can speculate if the market bounces back to your main range until your set threshold of resistance or support.Setting a Rebalancing Frequency:Determine how many times you want the protocol to rebalance your liquidity position before it pauses rebalancing.This helps you make a deterministic decision by rethinking your strategy after the set number of rebalances as the market may change in nature.It also helps prevent changes in your liquidity position too many times thus protecting you from bigger losses which usually happen in active rebalancing.By customizing these factors, you are guiding A51 to rebalance when these conditions are met. It requires you to stay updated with the market, especially how your deposited tokens perform to make informed decisions.How Do I Prevent IL Risks?There are certain ways you can prevent the risk of impermanent loss:Closely monitor the token prices for minor or significant price fluctuations and keep your position\\nvolatility.As a strategy creator, you can speculate if the market bounces back to your main range until your set threshold of resistance or support.Setting a Rebalancing Frequency:Determine how many times you want the protocol to rebalance your liquidity position before it pauses rebalancing.This helps you make a deterministic decision by rethinking your strategy after the set number of rebalances as the market may change in nature.It also helps prevent changes in your liquidity position too many times thus protecting you from bigger losses which usually happen in active rebalancing.By customizing these factors, you are guiding A51 to rebalance when these conditions are met. It requires you to stay updated with the market, especially how your deposited tokens perform to make informed decisions.How Do I Prevent IL Risks?There are certain ways you can prevent the risk of impermanent loss:Closely monitor the token prices for minor or significant price fluctuations and keep your position \\nAnswer:\", additional_kwargs={}, response_metadata={})]\n"
     ]
    },
    {
     "data": {
      "text/plain": [
       "'A51 allows users to set a rebalancing frequency to limit rebalances and prevent bigger losses. Strategy creators can monitor token prices for fluctuations to prevent impermanent loss. Staying updated with the market helps users make informed decisions.'"
      ]
     },
     "execution_count": 128,
     "metadata": {},
     "output_type": "execute_result"
    }
   ],
   "source": [
    "rag_chain_with_print.invoke(\"How does A51 finance cater impermenanat loss on positions?\")"
   ]
  },
  {
   "cell_type": "markdown",
   "id": "a287d514-631a-473c-801a-ff0cd70ab1c0",
   "metadata": {},
   "source": [
    "Key Considerations\n",
    "------------------\n",
    "\n",
    "1.  **Chunk Size**: Adjust based on document complexity\n",
    "\n",
    "2.  **Temperature**: 0 for factual responses, higher for creativity\n",
    "\n",
    "3.  **Embedding Model**: Choice impacts retrieval quality\n",
    "\n",
    "4.  **Prompt Engineering**: Crucial for response quality"
   ]
  },
  {
   "cell_type": "code",
   "execution_count": null,
   "id": "0e6cc386-9652-4f47-b274-ea330da73e0d",
   "metadata": {},
   "outputs": [],
   "source": []
  }
 ],
 "metadata": {
  "kernelspec": {
   "display_name": "Python [conda env:langchain]",
   "language": "python",
   "name": "conda-env-langchain-py"
  },
  "language_info": {
   "codemirror_mode": {
    "name": "ipython",
    "version": 3
   },
   "file_extension": ".py",
   "mimetype": "text/x-python",
   "name": "python",
   "nbconvert_exporter": "python",
   "pygments_lexer": "ipython3",
   "version": "3.12.9"
  }
 },
 "nbformat": 4,
 "nbformat_minor": 5
}
